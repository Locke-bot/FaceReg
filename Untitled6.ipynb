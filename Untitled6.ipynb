{
  "nbformat": 4,
  "nbformat_minor": 0,
  "metadata": {
    "accelerator": "GPU",
    "colab": {
      "name": "Untitled6.ipynb",
      "provenance": [],
      "collapsed_sections": [],
      "authorship_tag": "ABX9TyOwzqmwLeOJLZBL/PQj+Kzr",
      "include_colab_link": true
    },
    "kernelspec": {
      "display_name": "Python 3",
      "name": "python3"
    },
    "language_info": {
      "name": "python"
    }
  },
  "cells": [
    {
      "cell_type": "markdown",
      "metadata": {
        "id": "view-in-github",
        "colab_type": "text"
      },
      "source": [
        "<a href=\"https://colab.research.google.com/github/Locke-bot/FaceReg/blob/master/Untitled6.ipynb\" target=\"_parent\"><img src=\"https://colab.research.google.com/assets/colab-badge.svg\" alt=\"Open In Colab\"/></a>"
      ]
    },
    {
      "cell_type": "code",
      "metadata": {
        "colab": {
          "base_uri": "https://localhost:8080/"
        },
        "id": "jHJ70XqahnFZ",
        "outputId": "59420089-fdb9-424b-fdff-5ba488bcb0c1"
      },
      "source": [
        "import gc; gc.collect()\n",
        "import os, tqdm, datetime\n",
        "from skimage import io, transform\n",
        "import torch\n",
        "from torch import Tensor\n",
        "from PIL import Image\n",
        "import torchvision\n",
        "from torch.profiler import profile, record_function, ProfilerActivity\n",
        "from torch import optim\n",
        "import torch.nn as nn\n",
        "import torch.nn.functional as F\n",
        "from torchvision import transforms\n",
        "from torch.utils.data import Dataset, DataLoader\n",
        "import torchvision.transforms.functional as Func\n",
        "if torch.cuda.is_available():\n",
        "  device = torch.device('cuda')\n",
        "else:\n",
        "  device = torch.device('cpu')\n",
        "print('running on', device)"
      ],
      "execution_count": null,
      "outputs": [
        {
          "output_type": "stream",
          "name": "stdout",
          "text": [
            "running on cuda\n"
          ]
        }
      ]
    },
    {
      "cell_type": "code",
      "metadata": {
        "colab": {
          "base_uri": "https://localhost:8080/"
        },
        "id": "W9xkn7rOkAIG",
        "outputId": "2c17df34-da2b-467c-f1aa-b3003f0e217a"
      },
      "source": [
        "from google.colab import drive\n",
        "drive.mount('content', force_remount=True)"
      ],
      "execution_count": null,
      "outputs": [
        {
          "output_type": "stream",
          "name": "stdout",
          "text": [
            "Mounted at content\n"
          ]
        }
      ]
    },
    {
      "cell_type": "code",
      "metadata": {
        "colab": {
          "base_uri": "https://localhost:8080/"
        },
        "id": "Xwt7K8Zjj35F",
        "outputId": "2dd9c781-832c-4d37-c5c0-cf7c54560f94"
      },
      "source": [
        "os.chdir('content/MyDrive/Carvana')\n",
        "!ls\n",
        "data_dir = os.getcwd()"
      ],
      "execution_count": null,
      "outputs": [
        {
          "output_type": "stream",
          "name": "stdout",
          "text": [
            "colab_carvana_model.pth  train\t\t  unet_attached      val_masks\n",
            "test\t\t\t train_masks\t  unet_attached.png\n",
            "test_masks\t\t train_masks.csv  val\n"
          ]
        }
      ]
    },
    {
      "cell_type": "code",
      "metadata": {
        "id": "kETHYhEBi3FU"
      },
      "source": [
        "class DoubleConv(nn.Module):\n",
        "    \"\"\"(convolution => [BN] => ReLU) * 2\"\"\"\n",
        "\n",
        "    def __init__(self, in_channels, out_channels, mid_channels=None):\n",
        "        super().__init__()\n",
        "        if not mid_channels:\n",
        "            mid_channels = out_channels\n",
        "        self.double_conv = nn.Sequential(\n",
        "            nn.Conv2d(in_channels, mid_channels, kernel_size=3, padding=1),\n",
        "            nn.BatchNorm2d(mid_channels),\n",
        "            nn.ReLU(inplace=True),\n",
        "            nn.Conv2d(mid_channels, out_channels, kernel_size=3, padding=1),\n",
        "            nn.BatchNorm2d(out_channels),\n",
        "            nn.ReLU(inplace=True)\n",
        "        )\n",
        "\n",
        "    def forward(self, x):\n",
        "        return self.double_conv(x)"
      ],
      "execution_count": null,
      "outputs": []
    },
    {
      "cell_type": "code",
      "metadata": {
        "id": "Q73fA-JZi-Xx"
      },
      "source": [
        "class Down(nn.Module):\n",
        "    \"\"\"Downscaling with maxpool then double conv\"\"\"\n",
        "\n",
        "    def __init__(self, in_channels, out_channels):\n",
        "        super().__init__()\n",
        "        self.maxpool_conv = nn.Sequential(\n",
        "            nn.MaxPool2d(2),\n",
        "            DoubleConv(in_channels, out_channels)\n",
        "        )\n",
        "\n",
        "    def forward(self, x):\n",
        "        return self.maxpool_conv(x)"
      ],
      "execution_count": null,
      "outputs": []
    },
    {
      "cell_type": "code",
      "metadata": {
        "id": "3OVV8Iv1jFw8"
      },
      "source": [
        "class Up(nn.Module):\n",
        "    \"\"\"Upscaling then double conv\"\"\"\n",
        "\n",
        "    def __init__(self, in_channels, out_channels, bilinear=True):\n",
        "        super().__init__()\n",
        "\n",
        "        # if bilinear, use the normal convolutions to reduce the number of channels\n",
        "        if bilinear:\n",
        "            self.up = nn.Upsample(scale_factor=2, mode='bilinear', align_corners=True)\n",
        "            self.conv = DoubleConv(in_channels, out_channels, in_channels // 2)\n",
        "        else:\n",
        "            self.up = nn.ConvTranspose2d(in_channels, in_channels // 2, kernel_size=2, stride=2)\n",
        "            self.conv = DoubleConv(in_channels, out_channels)\n",
        "\n",
        "    def forward(self, x1, x2):\n",
        "        x1 = self.up(x1)\n",
        "        # input is CHW\n",
        "        diffY = x2.size()[2] - x1.size()[2]\n",
        "        diffX = x2.size()[3] - x1.size()[3]\n",
        "\n",
        "        x1 = F.pad(x1, [diffX // 2, diffX - diffX // 2,\n",
        "                        diffY // 2, diffY - diffY // 2])\n",
        "        # if you have padding issues, see\n",
        "        # https://github.com/HaiyongJiang/U-Net-Pytorch-Unstructured-Buggy/commit/0e854509c2cea854e247a9c615f175f76fbb2e3a\n",
        "        # https://github.com/xiaopeng-liao/Pytorch-UNet/commit/8ebac70e633bac59fc22bb5195e513d5832fb3bd\n",
        "        x = torch.cat([x2, x1], dim=1)\n",
        "        return self.conv(x)"
      ],
      "execution_count": null,
      "outputs": []
    },
    {
      "cell_type": "code",
      "metadata": {
        "id": "DIigydqbjUOz"
      },
      "source": [
        "class OutConv(nn.Module):\n",
        "    def __init__(self, in_channels, out_channels):\n",
        "        super(OutConv, self).__init__()\n",
        "        self.conv = nn.Conv2d(in_channels, out_channels, kernel_size=1)\n",
        "\n",
        "    def forward(self, x):\n",
        "        return self.conv(x)"
      ],
      "execution_count": null,
      "outputs": []
    },
    {
      "cell_type": "code",
      "metadata": {
        "id": "7wn8yknEjZmQ"
      },
      "source": [
        "class UNet(nn.Module):\n",
        "    def __init__(self, n_channels, n_classes, bilinear=True):\n",
        "        super(UNet, self).__init__()\n",
        "        self.n_channels = n_channels\n",
        "        self.n_classes = n_classes\n",
        "        self.bilinear = bilinear\n",
        "\n",
        "        self.inc = DoubleConv(n_channels, 64)\n",
        "        self.down1 = Down(64, 128)\n",
        "        self.down2 = Down(128, 256)\n",
        "        self.down3 = Down(256, 512)\n",
        "        factor = 2 if bilinear else 1\n",
        "        self.down4 = Down(512, 1024 // factor)\n",
        "        self.up1 = Up(1024, 512 // factor, bilinear)\n",
        "        self.up2 = Up(512, 256 // factor, bilinear)\n",
        "        self.up3 = Up(256, 128 // factor, bilinear)\n",
        "        self.up4 = Up(128, 64, bilinear)\n",
        "        self.outc = OutConv(64, n_classes)\n",
        "\n",
        "    def forward(self, x):\n",
        "        x1 = self.inc(x)\n",
        "        x2 = self.down1(x1)\n",
        "        x3 = self.down2(x2)\n",
        "        x4 = self.down3(x3)\n",
        "        x5 = self.down4(x4)\n",
        "        x = self.up1(x5, x4)\n",
        "        x = self.up2(x, x3)\n",
        "        x = self.up3(x, x2)\n",
        "        x = self.up4(x, x1)\n",
        "        logits = self.outc(x)\n",
        "        return logits"
      ],
      "execution_count": null,
      "outputs": []
    },
    {
      "cell_type": "code",
      "metadata": {
        "id": "KZWx9Xkljj8B"
      },
      "source": [
        "m = UNet(3, 1, bilinear=False)\n",
        "m.to(device)\n",
        "t = torch.rand((32, 3, 160, 240))\n",
        "t = t.to(device)\n",
        "with profile(activities=[ProfilerActivity.CPU], profile_memory=True, record_shapes=True) as prof:\n",
        "  m(t)\n",
        "print(prof.key_averages().table(sort_by=\"self_cpu_memory_usage\", row_limit=10))"
      ],
      "execution_count": null,
      "outputs": []
    },
    {
      "cell_type": "code",
      "metadata": {
        "id": "WflBmuxhk9sT"
      },
      "source": [
        "\n",
        "class Carro(Dataset):\n",
        "\n",
        "  def __init__(self, root, mask_root, transforms=None):\n",
        "        self.root, self.mask_root = root, mask_root\n",
        "        self.root_list = sorted(os.listdir(root))\n",
        "        self.mask_root_list = sorted(os.listdir(mask_root))\n",
        "        if self.root == 'train':\n",
        "          self.root_list = self.root_list[::10]\n",
        "          self.mask_root_list = self.mask_root_list[::10]\n",
        "        self.transform = transforms\n",
        "        assert len(self.root_list) == len(self.mask_root_list)\n",
        "\n",
        "  def __len__(self):\n",
        "    return len(self.root_list)\n",
        "\n",
        "  def __getitem__(self, idx):\n",
        "        img, mask = io.imread(os.path.join(self.root, self.root_list[idx])), io.imread(os.path.join(self.mask_root, self.mask_root_list[idx]))\n",
        "        #img, mask = self.root_list[idx], self.mask_root_list[idx]\n",
        "        #img, mask = io.imread(self.root_list[idx]), io.imread(self.mask_root_list[idx])\n",
        "        if self.transform:\n",
        "          img = self.transform(img)\n",
        "          mask = self.transform(mask)\n",
        "        return (img, mask)"
      ],
      "execution_count": null,
      "outputs": []
    },
    {
      "cell_type": "code",
      "metadata": {
        "id": "uu9pnU3YlI3g"
      },
      "source": [
        "\n",
        "t = transforms.Compose([\n",
        "                        transforms.ToTensor(),\n",
        "                        transforms.Resize((160, 240)),\n",
        "                        ])"
      ],
      "execution_count": null,
      "outputs": []
    },
    {
      "cell_type": "code",
      "metadata": {
        "id": "_zSTskNNlO8M"
      },
      "source": [
        "tds = Carro('train', 'train_masks', t)\n",
        "vds = Carro('val', 'val_masks', t)\n",
        "tdl = DataLoader(tds, batch_size=4, shuffle=True)\n",
        "vdl = DataLoader(vds, batch_size=4, shuffle=False)"
      ],
      "execution_count": null,
      "outputs": []
    },
    {
      "cell_type": "code",
      "metadata": {
        "id": "wUPVGvgxYOd3"
      },
      "source": [
        "vds.__len__()"
      ],
      "execution_count": null,
      "outputs": []
    },
    {
      "cell_type": "code",
      "metadata": {
        "id": "puyk5fr6lSWz"
      },
      "source": [
        "\n",
        "def validate(model, test_loader):\n",
        "    for name, loader in [(\"Test\", test_loader)]:\n",
        "        model.eval()\n",
        "        #print('loading')\n",
        "        correct = 0\n",
        "        total = 0\n",
        "        dice_score = 0\n",
        "        val_loss = 0\n",
        "        with torch.no_grad():\n",
        "            for imgs, labels in loader:\n",
        "                #print('working', imgs.shape)\n",
        "                with torch.no_grad():\n",
        "                    imgs = imgs.to(device)\n",
        "                    labels = labels.to(device)\n",
        "                    outputs = model(imgs)\n",
        "                    #print(outputs)\n",
        "                    predicted = torch.sigmoid(outputs)\n",
        "                    predicted = (predicted > 0.5).float()\n",
        "                    correct += (predicted == label).sum()\n",
        "                    total += torch.numel(predicted)\n",
        "                    dice_score += (2 * (predicted * output).sum()) / (\n",
        "                       (predicted + output).sum() + 1e-8\n",
        "                     )\n",
        "\n",
        "                    val_loss += loss_fn(outputs, labels).item()\n",
        "        \n",
        "                    #predicted, labels = [dixt[i.item()] for i in predicted], [dixt[i.item()] for i in labels]\n",
        "                    #print(list(zip(predicted, label)))\n",
        "                    #break\n",
        "                    #print(\"Mini Accuracy {}: {:.2f}\".format(name , correct / total))\n",
        "        #print(\"Accuracy {}: {:.2f}\".format(name , correct / total))\n",
        "        print(f'validation: {correct}/{total}, dice_score: {dice_score/len(loader)}')\n",
        "        return (correct/total), val_loss/len(test_loader)"
      ],
      "execution_count": null,
      "outputs": []
    },
    {
      "cell_type": "code",
      "metadata": {
        "id": "cwEF4aQ6RLv4"
      },
      "source": [
        "\n",
        "def dice_coeff(input: Tensor, target: Tensor, reduce_batch_first: bool = False, epsilon=1e-6):\n",
        "    # Average of Dice coefficient for all batches, or for a single mask\n",
        "    assert input.size() == target.size()\n",
        "    if input.dim() == 2 and reduce_batch_first:\n",
        "        raise ValueError(f'Dice: asked to reduce batch but got tensor without batch dimension (shape {input.shape})')\n",
        "\n",
        "    if input.dim() == 2 or reduce_batch_first:\n",
        "        inter = torch.dot(input.reshape(-1), target.reshape(-1))\n",
        "        sets_sum = torch.sum(input) + torch.sum(target)\n",
        "        if sets_sum.item() == 0:\n",
        "            sets_sum = 2 * inter\n",
        "        return (2 * inter + epsilon) / (sets_sum + epsilon)\n",
        "    else:\n",
        "        # compute and average metric for each batch element\n",
        "        dice = 0\n",
        "        for i in range(input.shape[0]):\n",
        "            dice += dice_coeff(input[i, ...], target[i, ...])\n",
        "        return dice / input.shape[0]\n",
        "\n",
        "def multiclass_dice_coeff(input: Tensor, target: Tensor, reduce_batch_first: bool = False, epsilon=1e-6):\n",
        "    # Average of Dice coefficient for all classes\n",
        "    assert input.size() == target.size()\n",
        "    dice = 0\n",
        "    for channel in range(input.shape[1]):\n",
        "        dice += dice_coeff(input[:, channel, ...], target[:, channel, ...], reduce_batch_first, epsilon)\n",
        "    return dice / input.shape[1]\n",
        "\n",
        "def dice_loss(input: Tensor, target: Tensor, multiclass: bool = False):\n",
        "    # Dice loss (objective to minimize) between 0 and 1\n",
        "    assert input.size() == target.size()\n",
        "    fn = multiclass_dice_coeff if multiclass else dice_coeff\n",
        "    return 1 - fn(input, target, reduce_batch_first=True)"
      ],
      "execution_count": null,
      "outputs": []
    },
    {
      "cell_type": "code",
      "metadata": {
        "id": "aKb4ajypPlm4"
      },
      "source": [
        "net = UNet(3, 1)⁷\n",
        "amp = False\n",
        "epochs = 5\n",
        "train_loader = tdl\n",
        "learning_rate = 1e-3\n",
        "optimizer = optim.RMSprop(net.parameters(), lr=learning_rate, weight_decay=1e-8, momentum=0.9)\n",
        "scheduler = optim.lr_scheduler.ReduceLROnPlateau(optimizer, 'max', patience=2) # goal: maximize Dice score\n",
        "grad_scaler = torch.cuda.amp.GradScaler(enabled=amp)\n",
        "criterion = nn.CrossEntropyLoss()\n",
        "global_step = 0\n",
        "\n",
        "# 5. Begin training\n",
        "count = 0\n",
        "n_train = len(tds)\n",
        "for epoch in range(epochs):\n",
        "        count = 0\n",
        "        dice_score = 0\n",
        "        net.train()\n",
        "        epoch_loss = 0\n",
        "        with tqdm.tqdm(total=n_train, desc=f'Epoch {epoch + 1}/{epochs}', unit='img') as pbar:\n",
        "            for images, true_masks in train_loader:\n",
        "\n",
        "                assert images.shape[1] == net.n_channels, \\\n",
        "                    f'Network has been defined with {net.n_channels} input channels, ' \\\n",
        "                    f'but loaded images have {images.shape[1]} channels. Please check that ' \\\n",
        "                    'the images are loaded correctly.'\n",
        "\n",
        "                images = images.to(device=device, dtype=torch.float32)\n",
        "                true_masks = true_masks.to(device=device, dtype=torch.long)\n",
        "\n",
        "                with torch.cuda.amp.autocast(enabled=amp):\n",
        "                    masks_pred = net(images)\n",
        "                    loss = criterion(masks_pred, true_masks) \\\n",
        "                           + dice_loss(F.softmax(masks_pred, dim=1).float(),\n",
        "                                       F.one_hot(true_masks, net.n_classes).permute(0, 3, 1, 2).float(),\n",
        "                                       multiclass=True)\n",
        "\n",
        "                optimizer.zero_grad(set_to_none=True)\n",
        "                grad_scaler.scale(loss).backward()\n",
        "                grad_scaler.step(optimizer)\n",
        "                grad_scaler.update()\n",
        "\n",
        "                pbar.update(images.shape[0])\n",
        "                global_step += 1\n",
        "                epoch_loss += loss.item()\n",
        "                pbar.set_postfix(**{'loss (batch)': loss.item()})\n",
        "                count += 1\n",
        "        print(dice_loss, epoch_loss/count)"
      ],
      "execution_count": null,
      "outputs": []
    },
    {
      "cell_type": "code",
      "metadata": {
        "colab": {
          "base_uri": "https://localhost:8080/",
          "height": 1000
        },
        "id": "KutNApnQlYdf",
        "outputId": "68e42001-2f1b-42e5-9248-31e15339bb90"
      },
      "source": [
        "#model = Coder(features=[64, 128, 256])\n",
        "model = UNet(3, 1, bilinear=False)\n",
        "model.to(device)\n",
        "#loss_fn = nn.NLLLoss()\n",
        "loss_fn = nn.BCEWithLogitsLoss()\n",
        "print('here')\n",
        "lr = 3*10**-4\n",
        "#optimizer = optim.SGD(model.parameters(), lr=lr, momentum=0.9)\n",
        "optimizer = optim.Adam(model.parameters())\n",
        "train_loader = tdl\n",
        "val_loader = vdl\n",
        "epochs = 500\n",
        "best_model = None\n",
        "best_acc = 0.\n",
        "import tqdm\n",
        "for epoch in range(epochs):\n",
        "    loss_train = 0\n",
        "    dice_score = 0\n",
        "    total = 0\n",
        "    correct = 0\n",
        "    train_loader = tqdm.tqdm(train_loader)\n",
        "    for imgs, label in train_loader:\n",
        "        model.train()\n",
        "        imgs = imgs.to(device)\n",
        "        label = label.to(device)\n",
        "        label /= 255\n",
        "        #print(label[0], label[0].dtype, output.dtype)\n",
        "        #print(imgs.shape)\n",
        "        batch_size = imgs.shape[0]\n",
        "        output = model(imgs)\n",
        "        predicted = torch.sigmoid(output)\n",
        "        predicted = (predicted > 0.5).float()\n",
        "        correct += (predicted == label).sum()\n",
        "        total += torch.numel(predicted)\n",
        "        # print(output)\n",
        "        dice_score += (2 * (predicted * label).sum()) / (\n",
        "                (predicted + label).sum() + 1e-8\n",
        "            )\n",
        "\n",
        "        loss = loss_fn(output, label)        \n",
        "        optimizer.zero_grad()\n",
        "        loss.backward()\n",
        "        optimizer.step()\n",
        "        loss_train += loss.item()\n",
        "    print(datetime.datetime.now(), epoch,\n",
        "        loss_train / len(train_loader),\n",
        "        (correct/total)\n",
        "    )\n",
        "    print(f\"dice_score_training: {dice_score/len(train_loader)}\")\n",
        "    val_acc, val_loss = validate(model, val_loader)\n",
        "    if val_acc > best_acc:\n",
        "        best_model = model.state_dict()\n",
        "        torch.save(best_model, 'colab_carvana_model.pth')\n",
        "        best_acc = val_acc\n",
        "    #print(f\"val_acc: {val_acc} ; val_loss: {val_loss} for {epoch} epoch; best_acc: {best_acc}\")\n",
        "    print(f\"val_acc: {val_acc} and val_loss: {val_loss} for {epoch} epoch; best_acc: {best_acc}\")"
      ],
      "execution_count": null,
      "outputs": [
        {
          "metadata": {
            "tags": null
          },
          "name": "stdout",
          "output_type": "stream",
          "text": [
            "here\n"
          ]
        },
        {
          "metadata": {
            "tags": null
          },
          "name": "stderr",
          "output_type": "stream",
          "text": [
            "100%|██████████| 103/103 [03:52<00:00,  2.25s/it]\n"
          ]
        },
        {
          "metadata": {
            "tags": null
          },
          "name": "stdout",
          "output_type": "stream",
          "text": [
            "2021-12-08 16:25:30.754342 0 0.1595181385145604 tensor(0.7872, device='cuda:0')\n",
            "dice_score_training: 0.0006792516214773059\n",
            "validation: 14563933/19200000, dice_score: 0.0008477981318719685\n",
            "val_acc: 0.7585381865501404 and val_loss: 0.6503865199089051 for 0 epoch; best_acc: 0.7585381865501404\n"
          ]
        },
        {
          "metadata": {
            "tags": null
          },
          "name": "stderr",
          "output_type": "stream",
          "text": [
            "100%|██████████| 103/103 [01:37<00:00,  1.05it/s]\n"
          ]
        },
        {
          "metadata": {
            "tags": null
          },
          "name": "stdout",
          "output_type": "stream",
          "text": [
            "2021-12-08 16:31:40.426153 1 0.032587920053346646 tensor(0.7889, device='cuda:0')\n",
            "dice_score_training: 0.0\n",
            "validation: 15928500/19200000, dice_score: 0.0\n",
            "val_acc: 0.8296093940734863 and val_loss: 0.8933776025772094 for 1 epoch; best_acc: 0.8296093940734863\n"
          ]
        },
        {
          "metadata": {
            "tags": null
          },
          "name": "stderr",
          "output_type": "stream",
          "text": [
            "100%|██████████| 103/103 [01:37<00:00,  1.05it/s]\n"
          ]
        },
        {
          "metadata": {
            "tags": null
          },
          "name": "stdout",
          "output_type": "stream",
          "text": [
            "2021-12-08 16:34:34.018549 2 0.015666116634835896 tensor(0.7889, device='cuda:0')\n",
            "dice_score_training: 0.0\n",
            "validation: 16692500/19200000, dice_score: 0.0\n",
            "val_acc: 0.8694010376930237 and val_loss: 0.9916566491127015 for 2 epoch; best_acc: 0.8694010376930237\n"
          ]
        },
        {
          "metadata": {
            "tags": null
          },
          "name": "stderr",
          "output_type": "stream",
          "text": [
            "100%|██████████| 103/103 [01:37<00:00,  1.05it/s]\n"
          ]
        },
        {
          "metadata": {
            "tags": null
          },
          "name": "stdout",
          "output_type": "stream",
          "text": [
            "2021-12-08 16:37:27.246727 3 0.010698915992691679 tensor(0.7889, device='cuda:0')\n",
            "dice_score_training: 0.0\n",
            "validation: 16015500/19200000, dice_score: 0.0\n",
            "val_acc: 0.8341405987739563 and val_loss: 1.0719099535942078 for 3 epoch; best_acc: 0.8694010376930237\n"
          ]
        },
        {
          "metadata": {
            "tags": null
          },
          "name": "stderr",
          "output_type": "stream",
          "text": [
            "100%|██████████| 103/103 [01:36<00:00,  1.06it/s]\n"
          ]
        },
        {
          "metadata": {
            "tags": null
          },
          "name": "stdout",
          "output_type": "stream",
          "text": [
            "2021-12-08 16:40:19.139000 4 0.0086209952912646 tensor(0.7889, device='cuda:0')\n",
            "dice_score_training: 0.0\n",
            "validation: 15451000/19200000, dice_score: 0.0\n",
            "val_acc: 0.8047395944595337 and val_loss: 1.1270350580215454 for 4 epoch; best_acc: 0.8694010376930237\n"
          ]
        },
        {
          "metadata": {
            "tags": null
          },
          "name": "stderr",
          "output_type": "stream",
          "text": [
            "100%|██████████| 103/103 [01:37<00:00,  1.06it/s]\n"
          ]
        },
        {
          "metadata": {
            "tags": null
          },
          "name": "stdout",
          "output_type": "stream",
          "text": [
            "2021-12-08 16:43:10.774546 5 0.007601583313233066 tensor(0.7889, device='cuda:0')\n",
            "dice_score_training: 0.0\n",
            "validation: 13689000/19200000, dice_score: 0.0\n",
            "val_acc: 0.7129687666893005 and val_loss: 1.1328835821151733 for 5 epoch; best_acc: 0.8694010376930237\n"
          ]
        },
        {
          "metadata": {
            "tags": null
          },
          "name": "stderr",
          "output_type": "stream",
          "text": [
            "100%|██████████| 103/103 [01:37<00:00,  1.06it/s]\n"
          ]
        },
        {
          "metadata": {
            "tags": null
          },
          "name": "stdout",
          "output_type": "stream",
          "text": [
            "2021-12-08 16:46:03.032055 6 0.0069955273133530775 tensor(0.7889, device='cuda:0')\n",
            "dice_score_training: 0.0\n",
            "validation: 15448500/19200000, dice_score: 0.0\n",
            "val_acc: 0.8046093583106995 and val_loss: 1.1464912815093995 for 6 epoch; best_acc: 0.8694010376930237\n"
          ]
        },
        {
          "metadata": {
            "tags": null
          },
          "name": "stderr",
          "output_type": "stream",
          "text": [
            "100%|██████████| 103/103 [01:38<00:00,  1.04it/s]\n"
          ]
        },
        {
          "metadata": {
            "tags": null
          },
          "name": "stdout",
          "output_type": "stream",
          "text": [
            "2021-12-08 16:48:57.050443 7 0.006622842671259225 tensor(0.7889, device='cuda:0')\n",
            "dice_score_training: 0.0\n",
            "validation: 14349000/19200000, dice_score: 0.0\n",
            "val_acc: 0.7473437190055847 and val_loss: 1.1501424932479858 for 7 epoch; best_acc: 0.8694010376930237\n"
          ]
        },
        {
          "metadata": {
            "tags": null
          },
          "name": "stderr",
          "output_type": "stream",
          "text": [
            "100%|██████████| 103/103 [01:38<00:00,  1.05it/s]\n"
          ]
        },
        {
          "metadata": {
            "tags": null
          },
          "name": "stdout",
          "output_type": "stream",
          "text": [
            "2021-12-08 16:51:50.032754 8 0.006348026699377495 tensor(0.7889, device='cuda:0')\n",
            "dice_score_training: 0.0\n",
            "validation: 16768500/19200000, dice_score: 0.0\n",
            "val_acc: 0.8733593821525574 and val_loss: 1.1749374361038207 for 8 epoch; best_acc: 0.8733593821525574\n"
          ]
        },
        {
          "metadata": {
            "tags": null
          },
          "name": "stderr",
          "output_type": "stream",
          "text": [
            "100%|██████████| 103/103 [01:37<00:00,  1.06it/s]\n"
          ]
        },
        {
          "metadata": {
            "tags": null
          },
          "name": "stdout",
          "output_type": "stream",
          "text": [
            "2021-12-08 16:54:43.272482 9 0.006188447953391712 tensor(0.7889, device='cuda:0')\n",
            "dice_score_training: 0.0\n",
            "validation: 14450000/19200000, dice_score: 0.0\n",
            "val_acc: 0.7526041865348816 and val_loss: 1.1980934205055236 for 9 epoch; best_acc: 0.8733593821525574\n"
          ]
        },
        {
          "metadata": {
            "tags": null
          },
          "name": "stderr",
          "output_type": "stream",
          "text": [
            "100%|██████████| 103/103 [01:36<00:00,  1.06it/s]\n"
          ]
        },
        {
          "metadata": {
            "tags": null
          },
          "name": "stdout",
          "output_type": "stream",
          "text": [
            "2021-12-08 16:57:33.903762 10 0.00608313588190426 tensor(0.7889, device='cuda:0')\n",
            "dice_score_training: 0.0\n",
            "validation: 14921500/19200000, dice_score: 0.0\n",
            "val_acc: 0.7771614789962769 and val_loss: 1.163039876461029 for 10 epoch; best_acc: 0.8733593821525574\n"
          ]
        },
        {
          "metadata": {
            "tags": null
          },
          "name": "stderr",
          "output_type": "stream",
          "text": [
            "100%|██████████| 103/103 [01:37<00:00,  1.06it/s]\n"
          ]
        },
        {
          "metadata": {
            "tags": null
          },
          "name": "stdout",
          "output_type": "stream",
          "text": [
            "2021-12-08 17:00:26.196251 11 0.005953864637509133 tensor(0.7889, device='cuda:0')\n",
            "dice_score_training: 0.0\n",
            "validation: 15275500/19200000, dice_score: 0.0\n",
            "val_acc: 0.7955989837646484 and val_loss: 1.189349681377411 for 11 epoch; best_acc: 0.8733593821525574\n"
          ]
        },
        {
          "metadata": {
            "tags": null
          },
          "name": "stderr",
          "output_type": "stream",
          "text": [
            "100%|██████████| 103/103 [01:38<00:00,  1.05it/s]\n"
          ]
        },
        {
          "metadata": {
            "tags": null
          },
          "name": "stdout",
          "output_type": "stream",
          "text": [
            "2021-12-08 17:03:18.602619 12 0.005866850631365788 tensor(0.7889, device='cuda:0')\n",
            "dice_score_training: 0.0\n",
            "validation: 15427000/19200000, dice_score: 0.0\n",
            "val_acc: 0.8034895658493042 and val_loss: 1.1814170560836792 for 12 epoch; best_acc: 0.8733593821525574\n"
          ]
        },
        {
          "metadata": {
            "tags": null
          },
          "name": "stderr",
          "output_type": "stream",
          "text": [
            "100%|██████████| 103/103 [01:35<00:00,  1.08it/s]\n"
          ]
        },
        {
          "metadata": {
            "tags": null
          },
          "name": "stdout",
          "output_type": "stream",
          "text": [
            "2021-12-08 17:06:07.850221 13 0.005809774907143081 tensor(0.7889, device='cuda:0')\n",
            "dice_score_training: 0.0\n",
            "validation: 14349000/19200000, dice_score: 0.0\n",
            "val_acc: 0.7473437190055847 and val_loss: 1.1769671301841735 for 13 epoch; best_acc: 0.8733593821525574\n"
          ]
        },
        {
          "metadata": {
            "tags": null
          },
          "name": "stderr",
          "output_type": "stream",
          "text": [
            "100%|██████████| 103/103 [01:35<00:00,  1.08it/s]\n"
          ]
        },
        {
          "metadata": {
            "tags": null
          },
          "name": "stdout",
          "output_type": "stream",
          "text": [
            "2021-12-08 17:08:56.670685 14 0.005749278290432344 tensor(0.7889, device='cuda:0')\n",
            "dice_score_training: 0.0\n",
            "validation: 15391000/19200000, dice_score: 0.0\n",
            "val_acc: 0.8016145825386047 and val_loss: 1.192813573360443 for 14 epoch; best_acc: 0.8733593821525574\n"
          ]
        },
        {
          "metadata": {
            "tags": null
          },
          "name": "stderr",
          "output_type": "stream",
          "text": [
            "100%|██████████| 103/103 [01:36<00:00,  1.06it/s]\n"
          ]
        },
        {
          "metadata": {
            "tags": null
          },
          "name": "stdout",
          "output_type": "stream",
          "text": [
            "2021-12-08 17:11:46.617956 15 0.005705735659751209 tensor(0.7889, device='cuda:0')\n",
            "dice_score_training: 0.0\n",
            "validation: 15592000/19200000, dice_score: 0.0\n",
            "val_acc: 0.8120833039283752 and val_loss: 1.1851680855751037 for 15 epoch; best_acc: 0.8733593821525574\n"
          ]
        },
        {
          "metadata": {
            "tags": null
          },
          "name": "stderr",
          "output_type": "stream",
          "text": [
            "100%|██████████| 103/103 [01:37<00:00,  1.06it/s]\n"
          ]
        },
        {
          "metadata": {
            "tags": null
          },
          "name": "stdout",
          "output_type": "stream",
          "text": [
            "2021-12-08 17:14:39.852500 16 0.005671640084966004 tensor(0.7889, device='cuda:0')\n",
            "dice_score_training: 0.0\n",
            "validation: 15591000/19200000, dice_score: 0.0\n",
            "val_acc: 0.8120312690734863 and val_loss: 1.1903318510055543 for 16 epoch; best_acc: 0.8733593821525574\n"
          ]
        },
        {
          "metadata": {
            "tags": null
          },
          "name": "stderr",
          "output_type": "stream",
          "text": [
            "100%|██████████| 103/103 [01:36<00:00,  1.07it/s]\n"
          ]
        },
        {
          "metadata": {
            "tags": null
          },
          "name": "stdout",
          "output_type": "stream",
          "text": [
            "2021-12-08 17:17:30.352636 17 0.005642141066310765 tensor(0.7889, device='cuda:0')\n",
            "dice_score_training: 0.0\n",
            "validation: 15498500/19200000, dice_score: 0.0\n",
            "val_acc: 0.807213544845581 and val_loss: 1.1726024417877197 for 17 epoch; best_acc: 0.8733593821525574\n"
          ]
        },
        {
          "metadata": {
            "tags": null
          },
          "name": "stderr",
          "output_type": "stream",
          "text": [
            "100%|██████████| 103/103 [01:36<00:00,  1.06it/s]\n"
          ]
        },
        {
          "metadata": {
            "tags": null
          },
          "name": "stdout",
          "output_type": "stream",
          "text": [
            "2021-12-08 17:20:21.101598 18 0.0056132681043909016 tensor(0.7889, device='cuda:0')\n",
            "dice_score_training: 0.0\n",
            "validation: 15912500/19200000, dice_score: 0.0\n",
            "val_acc: 0.8287760615348816 and val_loss: 1.1832067446708678 for 18 epoch; best_acc: 0.8733593821525574\n"
          ]
        },
        {
          "metadata": {
            "tags": null
          },
          "name": "stderr",
          "output_type": "stream",
          "text": [
            "100%|██████████| 103/103 [01:37<00:00,  1.06it/s]\n"
          ]
        },
        {
          "metadata": {
            "tags": null
          },
          "name": "stdout",
          "output_type": "stream",
          "text": [
            "2021-12-08 17:23:12.082610 19 0.005599157785255353 tensor(0.7889, device='cuda:0')\n",
            "dice_score_training: 0.0\n",
            "validation: 15547500/19200000, dice_score: 0.0\n",
            "val_acc: 0.809765636920929 and val_loss: 1.1716214394569398 for 19 epoch; best_acc: 0.8733593821525574\n"
          ]
        },
        {
          "metadata": {
            "tags": null
          },
          "name": "stderr",
          "output_type": "stream",
          "text": [
            "100%|██████████| 103/103 [01:35<00:00,  1.07it/s]\n"
          ]
        },
        {
          "metadata": {
            "tags": null
          },
          "name": "stdout",
          "output_type": "stream",
          "text": [
            "2021-12-08 17:26:02.208964 20 0.005577946615233583 tensor(0.7889, device='cuda:0')\n",
            "dice_score_training: 0.0\n",
            "validation: 15547500/19200000, dice_score: 0.0\n",
            "val_acc: 0.809765636920929 and val_loss: 1.1788064270019531 for 20 epoch; best_acc: 0.8733593821525574\n"
          ]
        },
        {
          "metadata": {
            "tags": null
          },
          "name": "stderr",
          "output_type": "stream",
          "text": [
            "100%|██████████| 103/103 [01:37<00:00,  1.06it/s]\n"
          ]
        },
        {
          "output_type": "stream",
          "name": "stdout",
          "text": [
            "2021-12-08 17:28:53.099851 21 0.005564295912830575 tensor(0.7889, device='cuda:0')\n",
            "dice_score_training: 0.0\n",
            "validation: 15270500/19200000, dice_score: 0.0\n",
            "val_acc: 0.79533851146698 and val_loss: 1.1811811456680297 for 21 epoch; best_acc: 0.8733593821525574\n"
          ]
        },
        {
          "output_type": "stream",
          "name": "stderr",
          "text": [
            "100%|██████████| 103/103 [01:37<00:00,  1.06it/s]\n"
          ]
        },
        {
          "output_type": "stream",
          "name": "stdout",
          "text": [
            "2021-12-08 17:31:45.463678 22 0.005554960990885219 tensor(0.7889, device='cuda:0')\n",
            "dice_score_training: 0.0\n",
            "validation: 14663500/19200000, dice_score: 0.0\n",
            "val_acc: 0.7637239694595337 and val_loss: 1.1755941338539124 for 22 epoch; best_acc: 0.8733593821525574\n"
          ]
        },
        {
          "output_type": "stream",
          "name": "stderr",
          "text": [
            "100%|██████████| 103/103 [01:35<00:00,  1.08it/s]\n"
          ]
        },
        {
          "output_type": "stream",
          "name": "stdout",
          "text": [
            "2021-12-08 17:34:36.209789 23 0.005571297114461805 tensor(0.7889, device='cuda:0')\n",
            "dice_score_training: 0.0\n"
          ]
        },
        {
          "output_type": "error",
          "ename": "KeyboardInterrupt",
          "evalue": "ignored",
          "traceback": [
            "\u001b[0;31m---------------------------------------------------------------------------\u001b[0m",
            "\u001b[0;31mKeyboardInterrupt\u001b[0m                         Traceback (most recent call last)",
            "\u001b[0;32m<ipython-input-16-75cfd982b146>\u001b[0m in \u001b[0;36m<module>\u001b[0;34m()\u001b[0m\n\u001b[1;32m     48\u001b[0m     )\n\u001b[1;32m     49\u001b[0m     \u001b[0mprint\u001b[0m\u001b[0;34m(\u001b[0m\u001b[0;34mf\"dice_score_training: {dice_score/len(train_loader)}\"\u001b[0m\u001b[0;34m)\u001b[0m\u001b[0;34m\u001b[0m\u001b[0;34m\u001b[0m\u001b[0m\n\u001b[0;32m---> 50\u001b[0;31m     \u001b[0mval_acc\u001b[0m\u001b[0;34m,\u001b[0m \u001b[0mval_loss\u001b[0m \u001b[0;34m=\u001b[0m \u001b[0mvalidate\u001b[0m\u001b[0;34m(\u001b[0m\u001b[0mmodel\u001b[0m\u001b[0;34m,\u001b[0m \u001b[0mval_loader\u001b[0m\u001b[0;34m)\u001b[0m\u001b[0;34m\u001b[0m\u001b[0;34m\u001b[0m\u001b[0m\n\u001b[0m\u001b[1;32m     51\u001b[0m     \u001b[0;32mif\u001b[0m \u001b[0mval_acc\u001b[0m \u001b[0;34m>\u001b[0m \u001b[0mbest_acc\u001b[0m\u001b[0;34m:\u001b[0m\u001b[0;34m\u001b[0m\u001b[0;34m\u001b[0m\u001b[0m\n\u001b[1;32m     52\u001b[0m         \u001b[0mbest_model\u001b[0m \u001b[0;34m=\u001b[0m \u001b[0mmodel\u001b[0m\u001b[0;34m.\u001b[0m\u001b[0mstate_dict\u001b[0m\u001b[0;34m(\u001b[0m\u001b[0;34m)\u001b[0m\u001b[0;34m\u001b[0m\u001b[0;34m\u001b[0m\u001b[0m\n",
            "\u001b[0;32m<ipython-input-12-0c3b5c6cea6e>\u001b[0m in \u001b[0;36mvalidate\u001b[0;34m(model, test_loader)\u001b[0m\n\u001b[1;32m     24\u001b[0m                      )\n\u001b[1;32m     25\u001b[0m \u001b[0;34m\u001b[0m\u001b[0m\n\u001b[0;32m---> 26\u001b[0;31m                     \u001b[0mval_loss\u001b[0m \u001b[0;34m+=\u001b[0m \u001b[0mloss_fn\u001b[0m\u001b[0;34m(\u001b[0m\u001b[0moutputs\u001b[0m\u001b[0;34m,\u001b[0m \u001b[0mlabels\u001b[0m\u001b[0;34m)\u001b[0m\u001b[0;34m.\u001b[0m\u001b[0mitem\u001b[0m\u001b[0;34m(\u001b[0m\u001b[0;34m)\u001b[0m\u001b[0;34m\u001b[0m\u001b[0;34m\u001b[0m\u001b[0m\n\u001b[0m\u001b[1;32m     27\u001b[0m \u001b[0;34m\u001b[0m\u001b[0m\n\u001b[1;32m     28\u001b[0m                     \u001b[0;31m#predicted, labels = [dixt[i.item()] for i in predicted], [dixt[i.item()] for i in labels]\u001b[0m\u001b[0;34m\u001b[0m\u001b[0;34m\u001b[0m\u001b[0;34m\u001b[0m\u001b[0m\n",
            "\u001b[0;31mKeyboardInterrupt\u001b[0m: "
          ]
        }
      ]
    }
  ]
}